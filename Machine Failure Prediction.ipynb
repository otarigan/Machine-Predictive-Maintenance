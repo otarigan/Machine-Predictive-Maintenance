{
 "cells": [
  {
   "cell_type": "markdown",
   "id": "aa71e832",
   "metadata": {},
   "source": [
    "# Machine Failure Prediction Project"
   ]
  },
  {
   "cell_type": "markdown",
   "id": "ae317ffa",
   "metadata": {},
   "source": [
    "#### Machine Predictive Maintenance Classsification Information:"
   ]
  },
  {
   "cell_type": "markdown",
   "id": "09b5df70",
   "metadata": {},
   "source": [
    "\n",
    "Since real predictive maintenance datasets are generally difficult to obtain and in particular difficult to publish, we present and provide a synthetic dataset that reflects real predictive maintenance encountered in the industry to the best of our knowledge.\n",
    "\n",
    "The dataset consists of 10 000 data points stored as rows with 14 features in columns\n",
    "\n",
    "UID: unique identifier ranging from 1 to 10000\n",
    "\n",
    "productID: consisting of a letter L, M, or H for low (50% of all products), medium (30%), and high (20%) as product quality variants and a variant-specific serial number\n",
    "\n",
    "air temperature [K]: generated using a random walk process later normalized to a standard deviation of 2 K around 300 K\n",
    "process temperature [K]: generated using a random walk process normalized to a standard deviation of 1 K, added to the air temperature plus 10 K.\n",
    "\n",
    "rotational speed [rpm]: calculated from powepower of 2860 W, overlaid with a normally distributed noise\n",
    "\n",
    "torque [Nm]: torque values are normally distributed around 40 Nm with an Ïƒ = 10 Nm and no negative values.\n",
    "tool wear [min]: The quality variants H/M/L add 5/3/2 minutes of tool wear to the used tool in the process. and a\n",
    "'machine failure' label that indicates, whether the machine has failed in this particular data point for any of the following failure modes are true."
   ]
  },
  {
   "cell_type": "markdown",
   "id": "4294741d",
   "metadata": {},
   "source": [
    "### Data Cleaning and Pre-processing"
   ]
  },
  {
   "cell_type": "markdown",
   "id": "ddedb02c",
   "metadata": {},
   "source": [
    "#### Importing the necessary libraries"
   ]
  },
  {
   "cell_type": "code",
   "execution_count": 118,
   "id": "f4f5a3d4",
   "metadata": {},
   "outputs": [],
   "source": [
    "import pandas as pd\n",
    "import numpy as np\n",
    "import matplotlib.pyplot as plt\n",
    "import seaborn as sns\n",
    "\n",
    "from sklearn.metrics import accuracy_score\n",
    "from sklearn.linear_model import LogisticRegression\n",
    "from sklearn.model_selection import train_test_split\n",
    "from sklearn.metrics import accuracy_score, plot_confusion_matrix\n",
    "from sklearn.preprocessing import StandardScaler\n",
    "from sklearn.metrics import classification_report\n",
    "\n",
    "\n",
    "from sklearn.linear_model import LogisticRegression\n",
    "from sklearn import svm\n",
    "from sklearn.ensemble import RandomForestClassifier\n",
    "from sklearn.neighbors import KNeighborsClassifier"
   ]
  },
  {
   "cell_type": "code",
   "execution_count": 111,
   "id": "9f69c55b",
   "metadata": {},
   "outputs": [
    {
     "data": {
      "text/html": [
       "<div>\n",
       "<style scoped>\n",
       "    .dataframe tbody tr th:only-of-type {\n",
       "        vertical-align: middle;\n",
       "    }\n",
       "\n",
       "    .dataframe tbody tr th {\n",
       "        vertical-align: top;\n",
       "    }\n",
       "\n",
       "    .dataframe thead th {\n",
       "        text-align: right;\n",
       "    }\n",
       "</style>\n",
       "<table border=\"1\" class=\"dataframe\">\n",
       "  <thead>\n",
       "    <tr style=\"text-align: right;\">\n",
       "      <th></th>\n",
       "      <th>UDI</th>\n",
       "      <th>Product ID</th>\n",
       "      <th>Type</th>\n",
       "      <th>Air temperature [K]</th>\n",
       "      <th>Process temperature [K]</th>\n",
       "      <th>Rotational speed [rpm]</th>\n",
       "      <th>Torque [Nm]</th>\n",
       "      <th>Tool wear [min]</th>\n",
       "      <th>Target</th>\n",
       "      <th>Failure Type</th>\n",
       "    </tr>\n",
       "  </thead>\n",
       "  <tbody>\n",
       "    <tr>\n",
       "      <th>0</th>\n",
       "      <td>1</td>\n",
       "      <td>M14860</td>\n",
       "      <td>M</td>\n",
       "      <td>298.1</td>\n",
       "      <td>308.6</td>\n",
       "      <td>1551</td>\n",
       "      <td>42.8</td>\n",
       "      <td>0</td>\n",
       "      <td>0</td>\n",
       "      <td>No Failure</td>\n",
       "    </tr>\n",
       "    <tr>\n",
       "      <th>1</th>\n",
       "      <td>2</td>\n",
       "      <td>L47181</td>\n",
       "      <td>L</td>\n",
       "      <td>298.2</td>\n",
       "      <td>308.7</td>\n",
       "      <td>1408</td>\n",
       "      <td>46.3</td>\n",
       "      <td>3</td>\n",
       "      <td>0</td>\n",
       "      <td>No Failure</td>\n",
       "    </tr>\n",
       "    <tr>\n",
       "      <th>2</th>\n",
       "      <td>3</td>\n",
       "      <td>L47182</td>\n",
       "      <td>L</td>\n",
       "      <td>298.1</td>\n",
       "      <td>308.5</td>\n",
       "      <td>1498</td>\n",
       "      <td>49.4</td>\n",
       "      <td>5</td>\n",
       "      <td>0</td>\n",
       "      <td>No Failure</td>\n",
       "    </tr>\n",
       "    <tr>\n",
       "      <th>3</th>\n",
       "      <td>4</td>\n",
       "      <td>L47183</td>\n",
       "      <td>L</td>\n",
       "      <td>298.2</td>\n",
       "      <td>308.6</td>\n",
       "      <td>1433</td>\n",
       "      <td>39.5</td>\n",
       "      <td>7</td>\n",
       "      <td>0</td>\n",
       "      <td>No Failure</td>\n",
       "    </tr>\n",
       "    <tr>\n",
       "      <th>4</th>\n",
       "      <td>5</td>\n",
       "      <td>L47184</td>\n",
       "      <td>L</td>\n",
       "      <td>298.2</td>\n",
       "      <td>308.7</td>\n",
       "      <td>1408</td>\n",
       "      <td>40.0</td>\n",
       "      <td>9</td>\n",
       "      <td>0</td>\n",
       "      <td>No Failure</td>\n",
       "    </tr>\n",
       "  </tbody>\n",
       "</table>\n",
       "</div>"
      ],
      "text/plain": [
       "   UDI Product ID Type  Air temperature [K]  Process temperature [K]  \\\n",
       "0    1     M14860    M                298.1                    308.6   \n",
       "1    2     L47181    L                298.2                    308.7   \n",
       "2    3     L47182    L                298.1                    308.5   \n",
       "3    4     L47183    L                298.2                    308.6   \n",
       "4    5     L47184    L                298.2                    308.7   \n",
       "\n",
       "   Rotational speed [rpm]  Torque [Nm]  Tool wear [min]  Target Failure Type  \n",
       "0                    1551         42.8                0       0   No Failure  \n",
       "1                    1408         46.3                3       0   No Failure  \n",
       "2                    1498         49.4                5       0   No Failure  \n",
       "3                    1433         39.5                7       0   No Failure  \n",
       "4                    1408         40.0                9       0   No Failure  "
      ]
     },
     "execution_count": 111,
     "metadata": {},
     "output_type": "execute_result"
    }
   ],
   "source": [
    "# Reading data into a dataframe\n",
    "df_machine = pd.read_csv('PdM.csv')\n",
    "df_machine.head()"
   ]
  },
  {
   "cell_type": "code",
   "execution_count": 112,
   "id": "cb4de8c9",
   "metadata": {},
   "outputs": [
    {
     "data": {
      "text/plain": [
       "<bound method DataFrame.info of         UDI Product ID Type  Air temperature [K]  Process temperature [K]  \\\n",
       "0         1     M14860    M                298.1                    308.6   \n",
       "1         2     L47181    L                298.2                    308.7   \n",
       "2         3     L47182    L                298.1                    308.5   \n",
       "3         4     L47183    L                298.2                    308.6   \n",
       "4         5     L47184    L                298.2                    308.7   \n",
       "...     ...        ...  ...                  ...                      ...   \n",
       "9995   9996     M24855    M                298.8                    308.4   \n",
       "9996   9997     H39410    H                298.9                    308.4   \n",
       "9997   9998     M24857    M                299.0                    308.6   \n",
       "9998   9999     H39412    H                299.0                    308.7   \n",
       "9999  10000     M24859    M                299.0                    308.7   \n",
       "\n",
       "      Rotational speed [rpm]  Torque [Nm]  Tool wear [min]  Target  \\\n",
       "0                       1551         42.8                0       0   \n",
       "1                       1408         46.3                3       0   \n",
       "2                       1498         49.4                5       0   \n",
       "3                       1433         39.5                7       0   \n",
       "4                       1408         40.0                9       0   \n",
       "...                      ...          ...              ...     ...   \n",
       "9995                    1604         29.5               14       0   \n",
       "9996                    1632         31.8               17       0   \n",
       "9997                    1645         33.4               22       0   \n",
       "9998                    1408         48.5               25       0   \n",
       "9999                    1500         40.2               30       0   \n",
       "\n",
       "     Failure Type  \n",
       "0      No Failure  \n",
       "1      No Failure  \n",
       "2      No Failure  \n",
       "3      No Failure  \n",
       "4      No Failure  \n",
       "...           ...  \n",
       "9995   No Failure  \n",
       "9996   No Failure  \n",
       "9997   No Failure  \n",
       "9998   No Failure  \n",
       "9999   No Failure  \n",
       "\n",
       "[10000 rows x 10 columns]>"
      ]
     },
     "execution_count": 112,
     "metadata": {},
     "output_type": "execute_result"
    }
   ],
   "source": [
    "df_machine.info"
   ]
  },
  {
   "cell_type": "markdown",
   "id": "33b4154f",
   "metadata": {},
   "source": [
    "By these features listed in the dataset, it looks to be a regular industrial motor. However, the 'Tool wear [min]' feature may indicate that it is some sort of cutting tool."
   ]
  },
  {
   "cell_type": "code",
   "execution_count": 113,
   "id": "96893980",
   "metadata": {},
   "outputs": [
    {
     "data": {
      "text/html": [
       "<div>\n",
       "<style scoped>\n",
       "    .dataframe tbody tr th:only-of-type {\n",
       "        vertical-align: middle;\n",
       "    }\n",
       "\n",
       "    .dataframe tbody tr th {\n",
       "        vertical-align: top;\n",
       "    }\n",
       "\n",
       "    .dataframe thead th {\n",
       "        text-align: right;\n",
       "    }\n",
       "</style>\n",
       "<table border=\"1\" class=\"dataframe\">\n",
       "  <thead>\n",
       "    <tr style=\"text-align: right;\">\n",
       "      <th></th>\n",
       "      <th>UDI</th>\n",
       "      <th>Product ID</th>\n",
       "      <th>Type</th>\n",
       "      <th>Air temperature [K]</th>\n",
       "      <th>Process temperature [K]</th>\n",
       "      <th>Rotational speed [rpm]</th>\n",
       "      <th>Torque [Nm]</th>\n",
       "      <th>Tool wear [min]</th>\n",
       "      <th>Target</th>\n",
       "      <th>Failure Type</th>\n",
       "    </tr>\n",
       "  </thead>\n",
       "  <tbody>\n",
       "    <tr>\n",
       "      <th>0</th>\n",
       "      <td>1</td>\n",
       "      <td>M14860</td>\n",
       "      <td>M</td>\n",
       "      <td>298.1</td>\n",
       "      <td>308.6</td>\n",
       "      <td>1551</td>\n",
       "      <td>42.8</td>\n",
       "      <td>0</td>\n",
       "      <td>0</td>\n",
       "      <td>No Failure</td>\n",
       "    </tr>\n",
       "    <tr>\n",
       "      <th>1</th>\n",
       "      <td>2</td>\n",
       "      <td>L47181</td>\n",
       "      <td>L</td>\n",
       "      <td>298.2</td>\n",
       "      <td>308.7</td>\n",
       "      <td>1408</td>\n",
       "      <td>46.3</td>\n",
       "      <td>3</td>\n",
       "      <td>0</td>\n",
       "      <td>No Failure</td>\n",
       "    </tr>\n",
       "    <tr>\n",
       "      <th>2</th>\n",
       "      <td>3</td>\n",
       "      <td>L47182</td>\n",
       "      <td>L</td>\n",
       "      <td>298.1</td>\n",
       "      <td>308.5</td>\n",
       "      <td>1498</td>\n",
       "      <td>49.4</td>\n",
       "      <td>5</td>\n",
       "      <td>0</td>\n",
       "      <td>No Failure</td>\n",
       "    </tr>\n",
       "    <tr>\n",
       "      <th>3</th>\n",
       "      <td>4</td>\n",
       "      <td>L47183</td>\n",
       "      <td>L</td>\n",
       "      <td>298.2</td>\n",
       "      <td>308.6</td>\n",
       "      <td>1433</td>\n",
       "      <td>39.5</td>\n",
       "      <td>7</td>\n",
       "      <td>0</td>\n",
       "      <td>No Failure</td>\n",
       "    </tr>\n",
       "    <tr>\n",
       "      <th>4</th>\n",
       "      <td>5</td>\n",
       "      <td>L47184</td>\n",
       "      <td>L</td>\n",
       "      <td>298.2</td>\n",
       "      <td>308.7</td>\n",
       "      <td>1408</td>\n",
       "      <td>40.0</td>\n",
       "      <td>9</td>\n",
       "      <td>0</td>\n",
       "      <td>No Failure</td>\n",
       "    </tr>\n",
       "  </tbody>\n",
       "</table>\n",
       "</div>"
      ],
      "text/plain": [
       "   UDI Product ID Type  Air temperature [K]  Process temperature [K]  \\\n",
       "0    1     M14860    M                298.1                    308.6   \n",
       "1    2     L47181    L                298.2                    308.7   \n",
       "2    3     L47182    L                298.1                    308.5   \n",
       "3    4     L47183    L                298.2                    308.6   \n",
       "4    5     L47184    L                298.2                    308.7   \n",
       "\n",
       "   Rotational speed [rpm]  Torque [Nm]  Tool wear [min]  Target Failure Type  \n",
       "0                    1551         42.8                0       0   No Failure  \n",
       "1                    1408         46.3                3       0   No Failure  \n",
       "2                    1498         49.4                5       0   No Failure  \n",
       "3                    1433         39.5                7       0   No Failure  \n",
       "4                    1408         40.0                9       0   No Failure  "
      ]
     },
     "execution_count": 113,
     "metadata": {},
     "output_type": "execute_result"
    }
   ],
   "source": [
    "df_machine.head()"
   ]
  },
  {
   "cell_type": "code",
   "execution_count": 114,
   "id": "a14c505e",
   "metadata": {},
   "outputs": [
    {
     "data": {
      "text/plain": [
       "(10000, 10)"
      ]
     },
     "execution_count": 114,
     "metadata": {},
     "output_type": "execute_result"
    }
   ],
   "source": [
    "df_machine.shape"
   ]
  },
  {
   "cell_type": "code",
   "execution_count": 115,
   "id": "24f591c6",
   "metadata": {},
   "outputs": [
    {
     "data": {
      "text/plain": [
       "UDI                        0\n",
       "Product ID                 0\n",
       "Type                       0\n",
       "Air temperature [K]        0\n",
       "Process temperature [K]    0\n",
       "Rotational speed [rpm]     0\n",
       "Torque [Nm]                0\n",
       "Tool wear [min]            0\n",
       "Target                     0\n",
       "Failure Type               0\n",
       "dtype: int64"
      ]
     },
     "execution_count": 115,
     "metadata": {},
     "output_type": "execute_result"
    }
   ],
   "source": [
    "# Double checking for null values\n",
    "df_machine.isnull().sum()"
   ]
  },
  {
   "cell_type": "code",
   "execution_count": 116,
   "id": "0f5f8c3e",
   "metadata": {},
   "outputs": [],
   "source": [
    "# For our preliminary analysis, we will drop the UDI and ProductID columns\n",
    "df_machine.drop(['UDI', 'Product ID', 'Failure Type'], axis=1, inplace=True)"
   ]
  },
  {
   "cell_type": "markdown",
   "id": "e5fdfa96",
   "metadata": {},
   "source": [
    "The 'UDI' and 'Product ID' features will not assist us in predicting failures, since they are simply identifiers and IDs of the machines."
   ]
  },
  {
   "cell_type": "code",
   "execution_count": 117,
   "id": "3140cccf",
   "metadata": {},
   "outputs": [
    {
     "data": {
      "text/plain": [
       "L    6000\n",
       "M    2997\n",
       "H    1003\n",
       "Name: Type, dtype: int64"
      ]
     },
     "execution_count": 117,
     "metadata": {},
     "output_type": "execute_result"
    }
   ],
   "source": [
    "# We can now obtain how many machines are of each type\n",
    "df_machine['Type'].value_counts()"
   ]
  },
  {
   "cell_type": "markdown",
   "id": "9538b03e",
   "metadata": {},
   "source": [
    "#### Data Analysis and Visualization"
   ]
  },
  {
   "cell_type": "code",
   "execution_count": null,
   "id": "e847224e",
   "metadata": {},
   "outputs": [],
   "source": []
  },
  {
   "cell_type": "code",
   "execution_count": null,
   "id": "26e9146c",
   "metadata": {},
   "outputs": [],
   "source": []
  },
  {
   "cell_type": "markdown",
   "id": "d19d4462",
   "metadata": {},
   "source": [
    "#### Handling Categorical Feature - Type"
   ]
  },
  {
   "cell_type": "code",
   "execution_count": 78,
   "id": "34f5e7bc",
   "metadata": {},
   "outputs": [],
   "source": [
    "df_machine['Type'].replace(['L', 'M', 'H'], [0, 1, 2], inplace=True)"
   ]
  },
  {
   "cell_type": "markdown",
   "id": "71e6138b",
   "metadata": {},
   "source": [
    "Since the 'Type' category is a discrete ordinal value, then we can apply simple ordinal encoding to increase the accuracy of our model"
   ]
  },
  {
   "cell_type": "markdown",
   "id": "331fd661",
   "metadata": {},
   "source": [
    "We know that the dataset is highly unbalanced, and thus we should take that into account to prevent a model with undeservingly high accuracy"
   ]
  },
  {
   "cell_type": "code",
   "execution_count": 79,
   "id": "ec33caa3",
   "metadata": {},
   "outputs": [],
   "source": [
    "fail = df_machine[df_machine.Target == 1]\n",
    "no_fail = df_machine[df_machine.Target == 0]\n",
    "fail_2 = df_machine[df_machine.Target == 1]"
   ]
  },
  {
   "cell_type": "code",
   "execution_count": 80,
   "id": "9fc65f19",
   "metadata": {},
   "outputs": [],
   "source": [
    "failure = pd.concat([fail, fail_2])"
   ]
  },
  {
   "cell_type": "code",
   "execution_count": 81,
   "id": "fb7d6dcf",
   "metadata": {},
   "outputs": [
    {
     "data": {
      "text/plain": [
       "count    339.000000\n",
       "mean     143.781711\n",
       "std       72.759876\n",
       "min        0.000000\n",
       "25%       84.500000\n",
       "50%      165.000000\n",
       "75%      207.500000\n",
       "max      253.000000\n",
       "Name: Tool wear [min], dtype: float64"
      ]
     },
     "execution_count": 81,
     "metadata": {},
     "output_type": "execute_result"
    }
   ],
   "source": [
    "fail['Tool wear [min]'].describe()"
   ]
  },
  {
   "cell_type": "code",
   "execution_count": 82,
   "id": "d902b20d",
   "metadata": {},
   "outputs": [
    {
     "data": {
      "text/plain": [
       "count    9661.000000\n",
       "mean      106.693717\n",
       "std        62.945790\n",
       "min         0.000000\n",
       "25%        52.000000\n",
       "50%       107.000000\n",
       "75%       160.000000\n",
       "max       246.000000\n",
       "Name: Tool wear [min], dtype: float64"
      ]
     },
     "execution_count": 82,
     "metadata": {},
     "output_type": "execute_result"
    }
   ],
   "source": [
    "no_fail['Tool wear [min]'].describe()"
   ]
  },
  {
   "cell_type": "markdown",
   "id": "a0c7029e",
   "metadata": {},
   "source": [
    "#### Building a sample dataset containing similar distributions of fail and no fail instances"
   ]
  },
  {
   "cell_type": "code",
   "execution_count": 83,
   "id": "45a25255",
   "metadata": {},
   "outputs": [],
   "source": [
    "no_fail_sample = no_fail.sample(n=678)"
   ]
  },
  {
   "cell_type": "code",
   "execution_count": 84,
   "id": "10e61ede",
   "metadata": {},
   "outputs": [
    {
     "data": {
      "text/html": [
       "<div>\n",
       "<style scoped>\n",
       "    .dataframe tbody tr th:only-of-type {\n",
       "        vertical-align: middle;\n",
       "    }\n",
       "\n",
       "    .dataframe tbody tr th {\n",
       "        vertical-align: top;\n",
       "    }\n",
       "\n",
       "    .dataframe thead th {\n",
       "        text-align: right;\n",
       "    }\n",
       "</style>\n",
       "<table border=\"1\" class=\"dataframe\">\n",
       "  <thead>\n",
       "    <tr style=\"text-align: right;\">\n",
       "      <th></th>\n",
       "      <th>Type</th>\n",
       "      <th>Air temperature [K]</th>\n",
       "      <th>Process temperature [K]</th>\n",
       "      <th>Rotational speed [rpm]</th>\n",
       "      <th>Torque [Nm]</th>\n",
       "      <th>Tool wear [min]</th>\n",
       "      <th>Target</th>\n",
       "    </tr>\n",
       "  </thead>\n",
       "  <tbody>\n",
       "    <tr>\n",
       "      <th>7318</th>\n",
       "      <td>2</td>\n",
       "      <td>299.9</td>\n",
       "      <td>310.3</td>\n",
       "      <td>1535</td>\n",
       "      <td>43.9</td>\n",
       "      <td>154</td>\n",
       "      <td>0</td>\n",
       "    </tr>\n",
       "    <tr>\n",
       "      <th>8101</th>\n",
       "      <td>0</td>\n",
       "      <td>300.3</td>\n",
       "      <td>311.8</td>\n",
       "      <td>1567</td>\n",
       "      <td>37.7</td>\n",
       "      <td>180</td>\n",
       "      <td>0</td>\n",
       "    </tr>\n",
       "    <tr>\n",
       "      <th>6173</th>\n",
       "      <td>0</td>\n",
       "      <td>300.8</td>\n",
       "      <td>310.7</td>\n",
       "      <td>1633</td>\n",
       "      <td>27.8</td>\n",
       "      <td>0</td>\n",
       "      <td>0</td>\n",
       "    </tr>\n",
       "    <tr>\n",
       "      <th>6927</th>\n",
       "      <td>0</td>\n",
       "      <td>301.1</td>\n",
       "      <td>311.6</td>\n",
       "      <td>1488</td>\n",
       "      <td>43.4</td>\n",
       "      <td>5</td>\n",
       "      <td>0</td>\n",
       "    </tr>\n",
       "    <tr>\n",
       "      <th>4309</th>\n",
       "      <td>1</td>\n",
       "      <td>301.3</td>\n",
       "      <td>309.9</td>\n",
       "      <td>1501</td>\n",
       "      <td>39.5</td>\n",
       "      <td>27</td>\n",
       "      <td>0</td>\n",
       "    </tr>\n",
       "  </tbody>\n",
       "</table>\n",
       "</div>"
      ],
      "text/plain": [
       "      Type  Air temperature [K]  Process temperature [K]  \\\n",
       "7318     2                299.9                    310.3   \n",
       "8101     0                300.3                    311.8   \n",
       "6173     0                300.8                    310.7   \n",
       "6927     0                301.1                    311.6   \n",
       "4309     1                301.3                    309.9   \n",
       "\n",
       "      Rotational speed [rpm]  Torque [Nm]  Tool wear [min]  Target  \n",
       "7318                    1535         43.9              154       0  \n",
       "8101                    1567         37.7              180       0  \n",
       "6173                    1633         27.8                0       0  \n",
       "6927                    1488         43.4                5       0  \n",
       "4309                    1501         39.5               27       0  "
      ]
     },
     "execution_count": 84,
     "metadata": {},
     "output_type": "execute_result"
    }
   ],
   "source": [
    "# Concatenating the two dataframes\n",
    "new_data = pd.concat([no_fail_sample,failure], axis=0)\n",
    "new_data.head()"
   ]
  },
  {
   "cell_type": "code",
   "execution_count": 85,
   "id": "c0c63956",
   "metadata": {},
   "outputs": [
    {
     "data": {
      "text/plain": [
       "0    678\n",
       "1    678\n",
       "Name: Target, dtype: int64"
      ]
     },
     "execution_count": 85,
     "metadata": {},
     "output_type": "execute_result"
    }
   ],
   "source": [
    "new_data['Target'].value_counts()"
   ]
  },
  {
   "cell_type": "markdown",
   "id": "f4a9421d",
   "metadata": {},
   "source": [
    "#### Splitting Training and Testing Data"
   ]
  },
  {
   "cell_type": "code",
   "execution_count": 86,
   "id": "999c3e9d",
   "metadata": {},
   "outputs": [],
   "source": [
    "X = new_data.drop(columns='Target', axis=1)\n",
    "Y = new_data['Target']"
   ]
  },
  {
   "cell_type": "code",
   "execution_count": 87,
   "id": "02df9334",
   "metadata": {},
   "outputs": [
    {
     "name": "stdout",
     "output_type": "stream",
     "text": [
      "(1084, 6) (272,)\n"
     ]
    }
   ],
   "source": [
    "X_train, X_test, Y_train, Y_test = train_test_split(X,Y, test_size = 0.2, stratify=Y,random_state=2)\n",
    "print(X_train.shape, Y_test.shape)"
   ]
  },
  {
   "cell_type": "code",
   "execution_count": 88,
   "id": "b9aa5926",
   "metadata": {},
   "outputs": [],
   "source": [
    "# Scaling the data\n",
    "scaler = StandardScaler()\n",
    "X_train = scaler.fit_transform(X_train)\n",
    "X_test = scaler.transform(X_test)"
   ]
  },
  {
   "cell_type": "markdown",
   "id": "cbe39418",
   "metadata": {},
   "source": [
    "#### Model Training - Logistic Regression"
   ]
  },
  {
   "cell_type": "code",
   "execution_count": 121,
   "id": "fdcc1b28",
   "metadata": {},
   "outputs": [
    {
     "data": {
      "text/plain": [
       "LogisticRegression()"
      ]
     },
     "execution_count": 121,
     "metadata": {},
     "output_type": "execute_result"
    }
   ],
   "source": [
    "logistic_model = LogisticRegression()\n",
    "logistic_model.fit(X_train, Y_train)"
   ]
  },
  {
   "cell_type": "code",
   "execution_count": 122,
   "id": "c8a6dfcc",
   "metadata": {},
   "outputs": [],
   "source": [
    "X_train_prediction = logistic_model.predict(X_train)\n",
    "training_data_accuracy = accuracy_score(X_train_prediction, Y_train)"
   ]
  },
  {
   "cell_type": "code",
   "execution_count": 123,
   "id": "1199c9e0",
   "metadata": {},
   "outputs": [
    {
     "name": "stdout",
     "output_type": "stream",
     "text": [
      "Accuracy on Training data:  82.28782287822878 %\n"
     ]
    }
   ],
   "source": [
    "print('Accuracy on Training data: ', training_data_accuracy*100,'%')"
   ]
  },
  {
   "cell_type": "code",
   "execution_count": 124,
   "id": "fd9d6454",
   "metadata": {},
   "outputs": [],
   "source": [
    "X_test_prediction = logistic_model.predict(X_test)"
   ]
  },
  {
   "cell_type": "code",
   "execution_count": 125,
   "id": "5cb53a6c",
   "metadata": {},
   "outputs": [],
   "source": [
    "test_data_accuracy = accuracy_score(X_test_prediction, Y_test)"
   ]
  },
  {
   "cell_type": "code",
   "execution_count": 126,
   "id": "4bfe42a3",
   "metadata": {},
   "outputs": [
    {
     "name": "stdout",
     "output_type": "stream",
     "text": [
      "Accuracy on Test Data Prediction:  83.45588235294117 %\n"
     ]
    }
   ],
   "source": [
    "print('Accuracy on Test Data Prediction: ', test_data_accuracy*100,'%')"
   ]
  },
  {
   "cell_type": "code",
   "execution_count": 127,
   "id": "020f75c9",
   "metadata": {},
   "outputs": [
    {
     "data": {
      "text/plain": [
       "<sklearn.metrics._plot.confusion_matrix.ConfusionMatrixDisplay at 0x1c1cddd7ee0>"
      ]
     },
     "execution_count": 127,
     "metadata": {},
     "output_type": "execute_result"
    },
    {
     "data": {
      "image/png": "[encoded data removed]",
      "text/plain": [
       "<Figure size 432x288 with 2 Axes>"
      ]
     },
     "metadata": {
      "needs_background": "light"
     },
     "output_type": "display_data"
    }
   ],
   "source": [
    "# Plotting the confusion matrix\n",
    "plot_confusion_matrix(logistic_model, X_test,Y_test, cmap='OrRd')"
   ]
  },
  {
   "cell_type": "code",
   "execution_count": 128,
   "id": "750d40d9",
   "metadata": {},
   "outputs": [
    {
     "name": "stdout",
     "output_type": "stream",
     "text": [
      "              precision    recall  f1-score   support\n",
      "\n",
      "           0       0.82      0.86      0.84       136\n",
      "           1       0.85      0.81      0.83       136\n",
      "\n",
      "    accuracy                           0.83       272\n",
      "   macro avg       0.84      0.83      0.83       272\n",
      "weighted avg       0.84      0.83      0.83       272\n",
      "\n"
     ]
    }
   ],
   "source": [
    "# Checking the model's accuracy\n",
    "print(classification_report(Y_test, logistic_model.predict(X_test)))"
   ]
  },
  {
   "cell_type": "markdown",
   "id": "fadf7b2c",
   "metadata": {},
   "source": [
    "#### Model Training - Support Vector Machines"
   ]
  },
  {
   "cell_type": "code",
   "execution_count": 96,
   "id": "20488be4",
   "metadata": {},
   "outputs": [],
   "source": [
    "model_svc = svm.SVC()"
   ]
  },
  {
   "cell_type": "code",
   "execution_count": 97,
   "id": "5608bafe",
   "metadata": {},
   "outputs": [
    {
     "data": {
      "text/plain": [
       "SVC()"
      ]
     },
     "execution_count": 97,
     "metadata": {},
     "output_type": "execute_result"
    }
   ],
   "source": [
    "model_svc.fit(X_train, Y_train)"
   ]
  },
  {
   "cell_type": "code",
   "execution_count": 98,
   "id": "1e158259",
   "metadata": {},
   "outputs": [
    {
     "name": "stdout",
     "output_type": "stream",
     "text": [
      "Accuracy on training data prediction:  90.95940959409594 %\n"
     ]
    }
   ],
   "source": [
    "X_train_svc = model_svc.predict(X_train)\n",
    "training_accuracy = accuracy_score(X_train_svc, Y_train)\n",
    "print('Accuracy on training data prediction: ', training_accuracy*100,'%')"
   ]
  },
  {
   "cell_type": "code",
   "execution_count": 99,
   "id": "70f54223",
   "metadata": {},
   "outputs": [
    {
     "name": "stdout",
     "output_type": "stream",
     "text": [
      "Accuracy on testing data prediction:  89.33823529411765 %\n"
     ]
    }
   ],
   "source": [
    "X_test_predict = model_svc.predict(X_test)\n",
    "test_data_accuracy_2 = accuracy_score(X_test_predict, Y_test)\n",
    "print('Accuracy on testing data prediction: ', test_data_accuracy_2*100,'%')"
   ]
  },
  {
   "cell_type": "code",
   "execution_count": 100,
   "id": "31a19d4b",
   "metadata": {},
   "outputs": [
    {
     "name": "stdout",
     "output_type": "stream",
     "text": [
      "              precision    recall  f1-score   support\n",
      "\n",
      "           0       0.90      0.88      0.89       136\n",
      "           1       0.88      0.90      0.89       136\n",
      "\n",
      "    accuracy                           0.89       272\n",
      "   macro avg       0.89      0.89      0.89       272\n",
      "weighted avg       0.89      0.89      0.89       272\n",
      "\n"
     ]
    }
   ],
   "source": [
    "from sklearn.metrics import classification_report\n",
    "print(classification_report(Y_test, model_svc.predict(X_test)))"
   ]
  },
  {
   "cell_type": "code",
   "execution_count": 101,
   "id": "060c3598",
   "metadata": {},
   "outputs": [
    {
     "data": {
      "text/plain": [
       "<sklearn.metrics._plot.confusion_matrix.ConfusionMatrixDisplay at 0x1c1ce064520>"
      ]
     },
     "execution_count": 101,
     "metadata": {},
     "output_type": "execute_result"
    },
    {
     "data": {
      "image/png": "[encoded data removed]",
      "text/plain": [
       "<Figure size 432x288 with 2 Axes>"
      ]
     },
     "metadata": {
      "needs_background": "light"
     },
     "output_type": "display_data"
    }
   ],
   "source": [
    "plot_confusion_matrix(model_svc, X_test,Y_test, cmap='OrRd')"
   ]
  },
  {
   "cell_type": "code",
   "execution_count": 120,
   "id": "88d6a7b5",
   "metadata": {},
   "outputs": [
    {
     "name": "stdout",
     "output_type": "stream",
     "text": [
      "              precision    recall  f1-score   support\n",
      "\n",
      "           0       0.90      0.88      0.89       136\n",
      "           1       0.88      0.90      0.89       136\n",
      "\n",
      "    accuracy                           0.89       272\n",
      "   macro avg       0.89      0.89      0.89       272\n",
      "weighted avg       0.89      0.89      0.89       272\n",
      "\n"
     ]
    }
   ],
   "source": [
    "# Checking the model's accuracy\n",
    "print(classification_report(Y_test, model_svc.predict(X_test)))"
   ]
  },
  {
   "cell_type": "markdown",
   "id": "a8f271c5",
   "metadata": {},
   "source": [
    "#### Model Training - Random Forest"
   ]
  },
  {
   "cell_type": "code",
   "execution_count": 102,
   "id": "5c4e2712",
   "metadata": {},
   "outputs": [],
   "source": [
    "random_forest_model=RandomForestClassifier()"
   ]
  },
  {
   "cell_type": "code",
   "execution_count": 103,
   "id": "50188d9a",
   "metadata": {},
   "outputs": [
    {
     "data": {
      "text/plain": [
       "RandomForestClassifier()"
      ]
     },
     "execution_count": 103,
     "metadata": {},
     "output_type": "execute_result"
    }
   ],
   "source": [
    "random_forest_model.fit(X_train,Y_train)"
   ]
  },
  {
   "cell_type": "code",
   "execution_count": 104,
   "id": "d6cc6cc0",
   "metadata": {},
   "outputs": [
    {
     "name": "stdout",
     "output_type": "stream",
     "text": [
      "Accuracy on training data Prediction:  100.0 %\n"
     ]
    }
   ],
   "source": [
    "X_train_clf=random_forest_model.predict(X_train)\n",
    "training_accuracy_clf=accuracy_score(X_train_clf,Y_train)\n",
    "print('Accuracy on training data Prediction: ', training_accuracy_clf*100,'%')"
   ]
  },
  {
   "cell_type": "code",
   "execution_count": 105,
   "id": "610518d9",
   "metadata": {},
   "outputs": [
    {
     "name": "stdout",
     "output_type": "stream",
     "text": [
      "Accuracy on training data Prediction:  94.85294117647058 %\n"
     ]
    }
   ],
   "source": [
    "X_test_clf=random_forest_model.predict(X_test)\n",
    "testing_accuracy_clf=accuracy_score(X_test_clf,Y_test)\n",
    "print('Accuracy on training data Prediction: ', testing_accuracy_clf*100,'%')"
   ]
  },
  {
   "cell_type": "code",
   "execution_count": 106,
   "id": "ba23913a",
   "metadata": {},
   "outputs": [
    {
     "data": {
      "text/plain": [
       "array([0.96323529, 0.94833948, 0.94833948, 0.96309963, 0.96678967])"
      ]
     },
     "execution_count": 106,
     "metadata": {},
     "output_type": "execute_result"
    }
   ],
   "source": [
    "from sklearn.model_selection import cross_val_score\n",
    "scores=cross_val_score(random_forest_model, X,Y, cv=5)\n",
    "scores"
   ]
  },
  {
   "cell_type": "code",
   "execution_count": 119,
   "id": "e6eb1c9d",
   "metadata": {},
   "outputs": [
    {
     "name": "stdout",
     "output_type": "stream",
     "text": [
      "              precision    recall  f1-score   support\n",
      "\n",
      "           0       0.97      0.93      0.95       136\n",
      "           1       0.93      0.97      0.95       136\n",
      "\n",
      "    accuracy                           0.95       272\n",
      "   macro avg       0.95      0.95      0.95       272\n",
      "weighted avg       0.95      0.95      0.95       272\n",
      "\n"
     ]
    }
   ],
   "source": [
    "# Checking the model's accuracy\n",
    "print(classification_report(Y_test, random_forest_model.predict(X_test)))"
   ]
  },
  {
   "cell_type": "code",
   "execution_count": null,
   "id": "c3c01dec",
   "metadata": {},
   "outputs": [],
   "source": []
  }
 ],
 "metadata": {
  "kernelspec": {
   "display_name": "Python 3 (ipykernel)",
   "language": "python",
   "name": "python3"
  },
  "language_info": {
   "codemirror_mode": {
    "name": "ipython",
    "version": 3
   },
   "file_extension": ".py",
   "mimetype": "text/x-python",
   "name": "python",
   "nbconvert_exporter": "python",
   "pygments_lexer": "ipython3",
   "version": "3.9.7"
  }
 },
 "nbformat": 4,
 "nbformat_minor": 5
}
